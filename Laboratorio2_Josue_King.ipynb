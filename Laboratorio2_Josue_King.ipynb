{
 "cells": [
  {
   "attachments": {},
   "cell_type": "markdown",
   "metadata": {},
   "source": [
    "# Laboratorio 2"
   ]
  },
  {
   "attachments": {},
   "cell_type": "markdown",
   "metadata": {},
   "source": [
    "## Ejercicio 1"
   ]
  },
  {
   "cell_type": "code",
   "execution_count": 19,
   "metadata": {},
   "outputs": [],
   "source": [
    "def segundos(no_segundos):\n",
    "    if type(no_segundos) == int and no_segundos > 0:\n",
    "        h = int(no_segundos / 3600)\n",
    "        m = int((no_segundos - h * 3600) / 60)\n",
    "        s = int(no_segundos - (h * 3600 + m *60))\n",
    "        print('Horas: ',h)\n",
    "        print('Minutos: ',m)\n",
    "        print('Segundos:',s)\n",
    "    else:\n",
    "        raise ValueError(\"Numero entero o mayor a 0\")"
   ]
  },
  {
   "cell_type": "code",
   "execution_count": 20,
   "metadata": {},
   "outputs": [
    {
     "name": "stdout",
     "output_type": "stream",
     "text": [
      "Horas:  69\n",
      "Minutos:  26\n",
      "Segundos: 40\n"
     ]
    }
   ],
   "source": [
    "segundos(250000)"
   ]
  },
  {
   "attachments": {},
   "cell_type": "markdown",
   "metadata": {},
   "source": [
    "## Ejercicio 2"
   ]
  },
  {
   "cell_type": "code",
   "execution_count": 21,
   "metadata": {},
   "outputs": [],
   "source": [
    "def triangulo(n, s):\n",
    "    if not 1 <= n <= 20:\n",
    "        print(\"Numero fuera de rango\")\n",
    "        return\n",
    "    \n",
    "    for i in range(1, n + 1):\n",
    "        print(s * i)\n",
    "    print(\"\")\n",
    "\n",
    "    for i in range(1, n + 1):\n",
    "        print(\" \" *(n - i) + s *i)\n",
    "    print(\"\")\n",
    "\n",
    "    for i in range(1, n + 1):\n",
    "        print(s * i)\n",
    "    print(\"\")\n",
    "\n",
    "    for i in range(1, n + 1):\n",
    "        print(\" \" *(n - i) + s *i)\n",
    "    print(\"\")\n"
   ]
  },
  {
   "cell_type": "code",
   "execution_count": 22,
   "metadata": {},
   "outputs": [
    {
     "name": "stdout",
     "output_type": "stream",
     "text": [
      "*\n",
      "**\n",
      "***\n",
      "\n",
      "  *\n",
      " **\n",
      "***\n",
      "\n",
      "*\n",
      "**\n",
      "***\n",
      "\n",
      "  *\n",
      " **\n",
      "***\n",
      "\n"
     ]
    }
   ],
   "source": [
    "triangulo(3, '*')"
   ]
  },
  {
   "attachments": {},
   "cell_type": "markdown",
   "metadata": {},
   "source": [
    "## Ejercicio 3"
   ]
  },
  {
   "cell_type": "code",
   "execution_count": 23,
   "metadata": {},
   "outputs": [],
   "source": [
    "import datetime\n",
    "\n",
    "def calculador(anio, mes, dia):\n",
    "    hoy = datetime.date.today()\n",
    "    cumple = datetime.date(anio, mes, dia)\n",
    "\n",
    "    diff = hoy - cumple\n",
    "\n",
    "    anio_edad = diff.days // 365\n",
    "    mes_edad = (diff.days % 365) // 30\n",
    "    dia_edad = (diff.days % 365 ) % 30\n",
    "\n",
    "    return anio_edad, mes_edad, dia_edad\n"
   ]
  },
  {
   "cell_type": "code",
   "execution_count": 24,
   "metadata": {},
   "outputs": [
    {
     "name": "stdout",
     "output_type": "stream",
     "text": [
      "Tienes 29 años, 5 meses y 15 dias de edad\n"
     ]
    }
   ],
   "source": [
    "dia = int(input(\"Ingrese el dia de cumpleaños\"))\n",
    "mes = int(input(\"Ingrese el mes de cumpleaños\"))\n",
    "anio = int(input(\"Ingrese el año de cumpleaños\"))\n",
    "\n",
    "anio_edad, mes_edad, dia_edad = calculador(anio, mes, dia)\n",
    "\n",
    "print(f\"Tienes {anio_edad} años, {mes_edad} meses y {dia_edad} dias de edad\")"
   ]
  },
  {
   "attachments": {},
   "cell_type": "markdown",
   "metadata": {},
   "source": [
    "## Ejercicio 4"
   ]
  },
  {
   "cell_type": "code",
   "execution_count": 25,
   "metadata": {},
   "outputs": [],
   "source": [
    "def convertir(a):\n",
    "        b = \"\".join(str(i) for i in a)\n",
    "        return b"
   ]
  },
  {
   "cell_type": "code",
   "execution_count": 26,
   "metadata": {},
   "outputs": [
    {
     "name": "stdout",
     "output_type": "stream",
     "text": [
      "20253035\n"
     ]
    }
   ],
   "source": [
    "a = (20, 25, 30, 35)\n",
    "b = convertir(a)\n",
    "print(b)"
   ]
  },
  {
   "attachments": {},
   "cell_type": "markdown",
   "metadata": {},
   "source": [
    "## Ejercicio 5"
   ]
  },
  {
   "cell_type": "code",
   "execution_count": 27,
   "metadata": {},
   "outputs": [],
   "source": [
    "def limpiar(lista):\n",
    "\n",
    "    nueva = list(filter(lambda x: len(x) > 0, lista))\n",
    "    return nueva"
   ]
  },
  {
   "cell_type": "code",
   "execution_count": 28,
   "metadata": {},
   "outputs": [
    {
     "name": "stdout",
     "output_type": "stream",
     "text": [
      "[(1,), ('a', 'b'), ('a', 'b', 'c'), 'd']\n"
     ]
    }
   ],
   "source": [
    "lista = [(), (), (1,), (),('a', 'b'), ('a', 'b', 'c'), ('d')]\n",
    "nueva_lista = limpiar(lista)\n",
    "print(nueva_lista)"
   ]
  },
  {
   "attachments": {},
   "cell_type": "markdown",
   "metadata": {},
   "source": [
    "## Ejercicio 6"
   ]
  },
  {
   "cell_type": "code",
   "execution_count": 29,
   "metadata": {},
   "outputs": [],
   "source": [
    "def promedio(tup):\n",
    "    tup_avg = tuple(sum(tp)/len(tp) for tp in tup)\n",
    "    return tup_avg"
   ]
  },
  {
   "cell_type": "code",
   "execution_count": 30,
   "metadata": {},
   "outputs": [
    {
     "name": "stdout",
     "output_type": "stream",
     "text": [
      "(10.6, 25.0, 43.0)\n"
     ]
    }
   ],
   "source": [
    "tup = ((5, 8, 9, 20, 11), (23, 25, 23, 29), (44, 49, 39, 40))\n",
    "prom = promedio(tup)\n",
    "print(prom)"
   ]
  },
  {
   "attachments": {},
   "cell_type": "markdown",
   "metadata": {},
   "source": [
    "## Ejercicio 7"
   ]
  },
  {
   "cell_type": "code",
   "execution_count": 31,
   "metadata": {},
   "outputs": [],
   "source": [
    "envios = {}\n",
    "\n",
    "def ver_envios():\n",
    "    print(\"Facturas: \")\n",
    "    for envio_num, cost in envios.items():\n",
    "        print(f\"Factura {envio_num}: ${cost:.2f}\")\n",
    "\n",
    "\n",
    "def agregar_envio():\n",
    "    envio_num = input(\"Ingrese un número de factura: \")\n",
    "    cost = float(input(\"Ingrese el valor de la factura: \"))\n",
    "    envios[envio_num] = cost\n",
    "    ver_envios()\n",
    "\n",
    "\n",
    "def agregar_envio():\n",
    "    envio_num = input(\"Ingrese el número de factura a pagar: \")\n",
    "    if envio_num in envios:\n",
    "        cost = envios.pop(envio_num)\n",
    "        print(f\"Factura {envio_num} pagada: {cost:.2f}\")\n",
    "    else:\n",
    "        print(\"Factura no encontrada\")\n",
    "    ver_envios()"
   ]
  },
  {
   "cell_type": "code",
   "execution_count": 32,
   "metadata": {},
   "outputs": [
    {
     "name": "stdout",
     "output_type": "stream",
     "text": [
      "\n",
      "Seleccione una opción:\n",
      "1. Agregar una nueva factura\n",
      "2. Pagar una factura existente\n",
      "3. Salir\n",
      "Opción seleccionada: 1\n",
      "Factura no encontrada\n",
      "Facturas: \n",
      "Total facturas: $0.00\n",
      "Total pendiente de pago: $0.00\n",
      "\n",
      "Seleccione una opción:\n",
      "1. Agregar una nueva factura\n",
      "2. Pagar una factura existente\n",
      "3. Salir\n",
      "Opción seleccionada: \n",
      "Opción no válida\n",
      "Total facturas: $0.00\n",
      "Total pendiente de pago: $0.00\n",
      "\n",
      "Seleccione una opción:\n",
      "1. Agregar una nueva factura\n",
      "2. Pagar una factura existente\n",
      "3. Salir\n",
      "Opción seleccionada: \n",
      "Opción no válida\n",
      "Total facturas: $0.00\n",
      "Total pendiente de pago: $0.00\n",
      "\n",
      "Seleccione una opción:\n",
      "1. Agregar una nueva factura\n",
      "2. Pagar una factura existente\n",
      "3. Salir\n",
      "Opción seleccionada: \n",
      "Opción no válida\n",
      "Total facturas: $0.00\n",
      "Total pendiente de pago: $0.00\n",
      "\n",
      "Seleccione una opción:\n",
      "1. Agregar una nueva factura\n",
      "2. Pagar una factura existente\n",
      "3. Salir\n",
      "Opción seleccionada: \n",
      "Opción no válida\n",
      "Total facturas: $0.00\n",
      "Total pendiente de pago: $0.00\n",
      "\n",
      "Seleccione una opción:\n",
      "1. Agregar una nueva factura\n",
      "2. Pagar una factura existente\n",
      "3. Salir\n",
      "Opción seleccionada: \n",
      "Opción no válida\n",
      "Total facturas: $0.00\n",
      "Total pendiente de pago: $0.00\n",
      "\n",
      "Seleccione una opción:\n",
      "1. Agregar una nueva factura\n",
      "2. Pagar una factura existente\n",
      "3. Salir\n",
      "Opción seleccionada: \n",
      "Opción no válida\n",
      "Total facturas: $0.00\n",
      "Total pendiente de pago: $0.00\n",
      "\n",
      "Seleccione una opción:\n",
      "1. Agregar una nueva factura\n",
      "2. Pagar una factura existente\n",
      "3. Salir\n",
      "Opción seleccionada: \n",
      "Opción no válida\n",
      "Total facturas: $0.00\n",
      "Total pendiente de pago: $0.00\n",
      "\n",
      "Seleccione una opción:\n",
      "1. Agregar una nueva factura\n",
      "2. Pagar una factura existente\n",
      "3. Salir\n",
      "Opción seleccionada: \n",
      "Opción no válida\n",
      "Total facturas: $0.00\n",
      "Total pendiente de pago: $0.00\n",
      "\n",
      "Seleccione una opción:\n",
      "1. Agregar una nueva factura\n",
      "2. Pagar una factura existente\n",
      "3. Salir\n",
      "Opción seleccionada: \n",
      "Opción no válida\n",
      "Total facturas: $0.00\n",
      "Total pendiente de pago: $0.00\n",
      "\n",
      "Seleccione una opción:\n",
      "1. Agregar una nueva factura\n",
      "2. Pagar una factura existente\n",
      "3. Salir\n",
      "Opción seleccionada: \n",
      "Opción no válida\n",
      "Total facturas: $0.00\n",
      "Total pendiente de pago: $0.00\n",
      "\n",
      "Seleccione una opción:\n",
      "1. Agregar una nueva factura\n",
      "2. Pagar una factura existente\n",
      "3. Salir\n",
      "Opción seleccionada: \n",
      "Opción no válida\n",
      "Total facturas: $0.00\n",
      "Total pendiente de pago: $0.00\n",
      "\n",
      "Seleccione una opción:\n",
      "1. Agregar una nueva factura\n",
      "2. Pagar una factura existente\n",
      "3. Salir\n",
      "Opción seleccionada: \n",
      "Opción no válida\n",
      "Total facturas: $0.00\n",
      "Total pendiente de pago: $0.00\n",
      "\n",
      "Seleccione una opción:\n",
      "1. Agregar una nueva factura\n",
      "2. Pagar una factura existente\n",
      "3. Salir\n",
      "Opción seleccionada: \n",
      "Opción no válida\n",
      "Total facturas: $0.00\n",
      "Total pendiente de pago: $0.00\n",
      "\n",
      "Seleccione una opción:\n",
      "1. Agregar una nueva factura\n",
      "2. Pagar una factura existente\n",
      "3. Salir\n",
      "Opción seleccionada: \n",
      "Opción no válida\n",
      "Total facturas: $0.00\n",
      "Total pendiente de pago: $0.00\n",
      "\n",
      "Seleccione una opción:\n",
      "1. Agregar una nueva factura\n",
      "2. Pagar una factura existente\n",
      "3. Salir\n",
      "Opción seleccionada: \n",
      "Opción no válida\n",
      "Total facturas: $0.00\n",
      "Total pendiente de pago: $0.00\n",
      "\n",
      "Seleccione una opción:\n",
      "1. Agregar una nueva factura\n",
      "2. Pagar una factura existente\n",
      "3. Salir\n",
      "Opción seleccionada: \n",
      "Opción no válida\n",
      "Total facturas: $0.00\n",
      "Total pendiente de pago: $0.00\n",
      "\n",
      "Seleccione una opción:\n",
      "1. Agregar una nueva factura\n",
      "2. Pagar una factura existente\n",
      "3. Salir\n",
      "Opción seleccionada: \n",
      "Opción no válida\n",
      "Total facturas: $0.00\n",
      "Total pendiente de pago: $0.00\n",
      "\n",
      "Seleccione una opción:\n",
      "1. Agregar una nueva factura\n",
      "2. Pagar una factura existente\n",
      "3. Salir\n",
      "Opción seleccionada: \n",
      "Opción no válida\n",
      "Total facturas: $0.00\n",
      "Total pendiente de pago: $0.00\n",
      "\n",
      "Seleccione una opción:\n",
      "1. Agregar una nueva factura\n",
      "2. Pagar una factura existente\n",
      "3. Salir\n",
      "Opción seleccionada: \n",
      "Opción no válida\n",
      "Total facturas: $0.00\n",
      "Total pendiente de pago: $0.00\n",
      "\n",
      "Seleccione una opción:\n",
      "1. Agregar una nueva factura\n",
      "2. Pagar una factura existente\n",
      "3. Salir\n",
      "Opción seleccionada: \n",
      "Opción no válida\n",
      "Total facturas: $0.00\n",
      "Total pendiente de pago: $0.00\n",
      "\n",
      "Seleccione una opción:\n",
      "1. Agregar una nueva factura\n",
      "2. Pagar una factura existente\n",
      "3. Salir\n",
      "Opción seleccionada: \n",
      "Opción no válida\n",
      "Total facturas: $0.00\n",
      "Total pendiente de pago: $0.00\n",
      "\n",
      "Seleccione una opción:\n",
      "1. Agregar una nueva factura\n",
      "2. Pagar una factura existente\n",
      "3. Salir\n",
      "Opción seleccionada: \n",
      "Opción no válida\n",
      "Total facturas: $0.00\n",
      "Total pendiente de pago: $0.00\n",
      "\n",
      "Seleccione una opción:\n",
      "1. Agregar una nueva factura\n",
      "2. Pagar una factura existente\n",
      "3. Salir\n",
      "Opción seleccionada: \n",
      "Opción no válida\n",
      "Total facturas: $0.00\n",
      "Total pendiente de pago: $0.00\n",
      "\n",
      "Seleccione una opción:\n",
      "1. Agregar una nueva factura\n",
      "2. Pagar una factura existente\n",
      "3. Salir\n",
      "Opción seleccionada: \n",
      "Opción no válida\n",
      "Total facturas: $0.00\n",
      "Total pendiente de pago: $0.00\n",
      "\n",
      "Seleccione una opción:\n",
      "1. Agregar una nueva factura\n",
      "2. Pagar una factura existente\n",
      "3. Salir\n",
      "Opción seleccionada: 3\n",
      "Finalizado!\n"
     ]
    }
   ],
   "source": [
    "while True:\n",
    "    print(\"\\nSeleccione una opción:\")\n",
    "    print(\"1. Agregar una nueva factura\")\n",
    "    print(\"2. Pagar una factura existente\")\n",
    "    print(\"3. Salir\")\n",
    "    s = input(\"\\nSeleccione una opción:\\n1. Agregar una nueva factura\\n2. Pagar una factura existente\\n3. Salir \")\n",
    "\n",
    "    print(f\"Opción seleccionada: {s}\")\n",
    "\n",
    "    if s == \"1\":\n",
    "        agregar_envio()\n",
    "    elif s == \"2\":\n",
    "        agregar_envio()\n",
    "    elif s == \"3\":\n",
    "        print(\"Finalizado!\")\n",
    "        break\n",
    "    else:\n",
    "        print(\"Opción no válida\")\n",
    "\n",
    "    total_pagar = sum(envios.values())\n",
    "    total_pediente = sum(costo for costo in envios.values())\n",
    "    print(f\"Total facturas: ${total_pagar:.2f}\")\n",
    "    print(f\"Total pendiente de pago: ${total_pediente:.2f}\")"
   ]
  }
 ],
 "metadata": {
  "kernelspec": {
   "display_name": "base",
   "language": "python",
   "name": "python3"
  },
  "language_info": {
   "codemirror_mode": {
    "name": "ipython",
    "version": 3
   },
   "file_extension": ".py",
   "mimetype": "text/x-python",
   "name": "python",
   "nbconvert_exporter": "python",
   "pygments_lexer": "ipython3",
   "version": "3.9.13"
  },
  "orig_nbformat": 4,
  "vscode": {
   "interpreter": {
    "hash": "9c5d3df2a847e89af3cf5321c33ec1f42406db9314ae1ce21ecec83e8a6a1771"
   }
  }
 },
 "nbformat": 4,
 "nbformat_minor": 2
}
